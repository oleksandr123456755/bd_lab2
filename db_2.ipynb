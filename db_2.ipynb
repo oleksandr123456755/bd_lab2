{
  "cells": [
    {
      "cell_type": "code",
      "execution_count": 21,
      "metadata": {
        "id": "A3GkzUuj-Zop"
      },
      "outputs": [],
      "source": [
        "splits = 0\n",
        "parent_splits = 0\n",
        "fusions = 0\n",
        "parent_fusions = 0\n",
        "\n",
        "\n",
        "class Node(object):\n",
        "\n",
        "    def __init__(self, parent=None):\n",
        "        self.keys: list = []\n",
        "        self.values: list[Node] = []\n",
        "        self.parent: Node = parent\n",
        "\n",
        "    def index(self, key):\n",
        "        for i, item in enumerate(self.keys):\n",
        "            if key < item:\n",
        "                return i\n",
        "\n",
        "        return len(self.keys)\n",
        "\n",
        "    def __getitem__(self, item):\n",
        "        return self.values[self.index(item)]\n",
        "\n",
        "    def __setitem__(self, key, value):\n",
        "        i = self.index(key)\n",
        "        self.keys[i:i] = [key]\n",
        "        self.values.pop(i)\n",
        "        self.values[i:i] = value\n",
        "\n",
        "    def split(self):\n",
        "        global splits, parent_splits\n",
        "        splits += 1\n",
        "        parent_splits += 1\n",
        "\n",
        "        left = Node(self.parent)\n",
        "\n",
        "        mid = len(self.keys) // 2\n",
        "\n",
        "        left.keys = self.keys[:mid]\n",
        "        left.values = self.values[:mid + 1]\n",
        "        for child in left.values:\n",
        "            child.parent = left\n",
        "\n",
        "        key = self.keys[mid]\n",
        "        self.keys = self.keys[mid + 1:]\n",
        "        self.values = self.values[mid + 1:]\n",
        "\n",
        "        return key, [left, self]\n",
        "\n",
        "    def __delitem__(self, key):\n",
        "        i = self.index(key)\n",
        "        del self.values[i]\n",
        "        if i < len(self.keys):\n",
        "            del self.keys[i]\n",
        "        else:\n",
        "            del self.keys[i - 1]\n",
        "\n",
        "    def fusion(self):\n",
        "        global fusions, parent_fusions\n",
        "        fusions += 1\n",
        "        parent_fusions += 1\n",
        "\n",
        "        index = self.parent.index(self.keys[0])\n",
        "        if index < len(self.parent.keys):\n",
        "            next_node: Node = self.parent.values[index + 1]\n",
        "            next_node.keys[0:0] = self.keys + [self.parent.keys[index]]\n",
        "            for child in self.values:\n",
        "                child.parent = next_node\n",
        "            next_node.values[0:0] = self.values\n",
        "        else:\n",
        "            prev: Node = self.parent.values[-2]\n",
        "            prev.keys += [self.parent.keys[-1]] + self.keys\n",
        "            for child in self.values:\n",
        "                child.parent = prev\n",
        "            prev.values += self.values\n",
        "\n",
        "    def borrow_key(self, minimum: int):\n",
        "        index = self.parent.index(self.keys[0])\n",
        "        if index < len(self.parent.keys):\n",
        "            next_node: Node = self.parent.values[index + 1]\n",
        "            if len(next_node.keys) > minimum:\n",
        "                self.keys += [self.parent.keys[index]]\n",
        "\n",
        "                borrow_node = next_node.values.pop(0)\n",
        "                borrow_node.parent = self\n",
        "                self.values += [borrow_node]\n",
        "                self.parent.keys[index] = next_node.keys.pop(0)\n",
        "                return True\n",
        "        elif index != 0:\n",
        "            prev: Node = self.parent.values[index - 1]\n",
        "            if len(prev.keys) > minimum:\n",
        "                self.keys[0:0] = [self.parent.keys[index - 1]]\n",
        "\n",
        "                borrow_node = prev.values.pop()\n",
        "                borrow_node.parent = self\n",
        "                self.values[0:0] = [borrow_node]\n",
        "                self.parent.keys[index - 1] = prev.keys.pop()\n",
        "                return True\n",
        "\n",
        "        return False\n",
        "\n",
        "\n",
        "class Leaf(Node):\n",
        "    def __init__(self, parent=None, prev_node=None, next_node=None):\n",
        "        super(Leaf, self).__init__(parent)\n",
        "        self.next: Leaf = next_node\n",
        "        if next_node is not None:\n",
        "            next_node.prev = self\n",
        "        self.prev: Leaf = prev_node\n",
        "        if prev_node is not None:\n",
        "            prev_node.next = self\n",
        "\n",
        "    def __getitem__(self, item):\n",
        "        return self.values[self.keys.index(item)]\n",
        "\n",
        "    def __setitem__(self, key, value):\n",
        "        i = self.index(key)\n",
        "        if key not in self.keys:\n",
        "            self.keys[i:i] = [key]\n",
        "            self.values[i:i] = [value]\n",
        "        else:\n",
        "            self.values[i - 1] = value\n",
        "\n",
        "    def split(self):\n",
        "        global splits\n",
        "        splits += 1\n",
        "\n",
        "        left = Leaf(self.parent, self.prev, self)\n",
        "        mid = len(self.keys) // 2\n",
        "\n",
        "        left.keys = self.keys[:mid]\n",
        "        left.values = self.values[:mid]\n",
        "\n",
        "        self.keys: list = self.keys[mid:]\n",
        "        self.values: list = self.values[mid:]\n",
        "\n",
        "        return self.keys[0], [left, self]\n",
        "\n",
        "    def __delitem__(self, key):\n",
        "        i = self.keys.index(key)\n",
        "        del self.keys[i]\n",
        "        del self.values[i]\n",
        "\n",
        "    def fusion(self):\n",
        "        global fusions\n",
        "        fusions += 1\n",
        "\n",
        "        if self.next is not None and self.next.parent == self.parent:\n",
        "            self.next.keys[0:0] = self.keys\n",
        "            self.next.values[0:0] = self.values\n",
        "        else:\n",
        "            self.prev.keys += self.keys\n",
        "            self.prev.values += self.values\n",
        "\n",
        "        if self.next is not None:\n",
        "            self.next.prev = self.prev\n",
        "        if self.prev is not None:\n",
        "            self.prev.next = self.next\n",
        "\n",
        "    def borrow_key(self, minimum: int):\n",
        "        index = self.parent.index(self.keys[0])\n",
        "        if index < len(self.parent.keys) and len(self.next.keys) > minimum:\n",
        "            self.keys += [self.next.keys.pop(0)]\n",
        "            self.values += [self.next.values.pop(0)]\n",
        "            self.parent.keys[index] = self.next.keys[0]\n",
        "            return True\n",
        "        elif index != 0 and len(self.prev.keys) > minimum:\n",
        "            self.keys[0:0] = [self.prev.keys.pop()]\n",
        "            self.values[0:0] = [self.prev.values.pop()]\n",
        "            self.parent.keys[index - 1] = self.keys[0]\n",
        "            return True\n",
        "\n",
        "        return False\n",
        "\n",
        "\n",
        "class BPlusTree(object):\n",
        "    root: Node\n",
        "\n",
        "    def __init__(self, maximum=4):\n",
        "        self.root = Leaf()\n",
        "        self.maximum: int = maximum if maximum > 2 else 2\n",
        "        self.minimum: int = 2\n",
        "        self.depth = 0\n",
        "\n",
        "    def find(self, key) -> Leaf:\n",
        "        node = self.root\n",
        "\n",
        "        while type(node) is not Leaf:\n",
        "            node = node[key]\n",
        "        return node\n",
        "\n",
        "    def __getitem__(self, item):\n",
        "        return self.find(item)[item]\n",
        "\n",
        "    def query(self, key):\n",
        "        leaf = self.find(key)\n",
        "        return leaf[key] if key in leaf.keys else None\n",
        "\n",
        "    def __setitem__(self, key, value, leaf=None):\n",
        "        if leaf is None:\n",
        "            leaf = self.find(key)\n",
        "        leaf[key] = value\n",
        "        if len(leaf.keys) > self.maximum:\n",
        "            self.insert_index(*leaf.split())\n",
        "\n",
        "    def insert_index(self, key, values: list[Node]):\n",
        "        parent = values[1].parent\n",
        "        if parent is None:\n",
        "            values[0].parent = values[1].parent = self.root = Node()\n",
        "            self.depth += 1\n",
        "            self.root.keys = [key]\n",
        "            self.root.values = values\n",
        "            return\n",
        "\n",
        "        parent[key] = values\n",
        "        if len(parent.keys) > self.maximum:\n",
        "            self.insert_index(*parent.split())\n",
        "\n",
        "\n",
        "    def delete(self, key, node: Node = None):\n",
        "        if node is None:\n",
        "            node = self.find(key)\n",
        "        del node[key]\n",
        "\n",
        "        if len(node.keys) < self.minimum:\n",
        "            if node == self.root:\n",
        "                if len(self.root.keys) == 0 and len(self.root.values) > 0:\n",
        "                    self.root = self.root.values[0]\n",
        "                    self.root.parent = None\n",
        "                    self.depth -= 1\n",
        "                return\n",
        "\n",
        "            elif not node.borrow_key(self.minimum):\n",
        "                node.fusion()\n",
        "                self.delete(key, node.parent)\n",
        "\n",
        "\n",
        "    def show(self, node=None, file=None, _prefix=\"\", _last=True):\n",
        "        if node is None:\n",
        "            node = self.root\n",
        "        values = [self.query(key) for key in node.keys if self.query(key) is not None]\n",
        "        print(_prefix, \"|- \" if _last else \"|- \", values, sep=\"\", file=file)\n",
        "        _prefix += \"   \" if _last else \"|  \"\n",
        "\n",
        "        if type(node) is Node:\n",
        "            for i, child in enumerate(node.values):\n",
        "                _last = (i == len(node.values) - 1)\n",
        "                self.show(child, file, _prefix, _last)\n",
        "\n",
        "\n",
        "\n",
        "    def leftmost_leaf(self) -> Leaf:\n",
        "        node = self.root\n",
        "        while type(node) is not Leaf:\n",
        "            node = node.values[0]\n",
        "        return node\n",
        "\n",
        "    def query_more_than(self, key):\n",
        "        results = []\n",
        "        node = self.root\n",
        "        while not isinstance(node, Leaf):\n",
        "            found = False\n",
        "            for i, node_key in enumerate(node.keys):\n",
        "                if key < node_key:\n",
        "                    node = node.values[i]\n",
        "                    found = True\n",
        "                    break\n",
        "            if not found:\n",
        "                node = node.values[-1]\n",
        "\n",
        "        while node:\n",
        "            for k, v in zip(node.keys, node.values):\n",
        "                if k > key:\n",
        "                    results.append(v)\n",
        "            node = node.next\n",
        "        return results\n",
        "\n",
        "\n",
        "    def query_less_than(self, key):\n",
        "      results = []\n",
        "      leaf = self.leftmost_leaf()\n",
        "      while leaf:\n",
        "          for k in leaf.keys:\n",
        "              if k < key:\n",
        "                  results.append(leaf[k])\n",
        "              else:\n",
        "                  return results\n",
        "          leaf = leaf.next\n",
        "      return results\n"
      ]
    },
    {
      "cell_type": "code",
      "execution_count": 2,
      "metadata": {
        "id": "4ob_OQ9oFRS-"
      },
      "outputs": [],
      "source": [
        "def get_name_hash(word, max_length=15):\n",
        "    word = word.lower()\n",
        "\n",
        "    groups = [\n",
        "        \"аб\", \"вгґд\", \"еєжзиі\", \"їйклмн\", \"опр\", \"сту\", \"фхцч\", \"шщью\", \"я\"\n",
        "    ]\n",
        "    letter_to_number = {}\n",
        "    for idx, group in enumerate(groups):\n",
        "        for letter in group:\n",
        "            letter_to_number[letter] = str(idx + 1)\n",
        "\n",
        "    encoded = ''.join([letter_to_number.get(char, '0') for char in word])\n",
        "\n",
        "    length_code = str(len(word)).zfill(2)\n",
        "\n",
        "    padding_length = max_length - len(encoded) - len(length_code)\n",
        "    if padding_length > 0:\n",
        "        full_encoded = encoded + '0' * padding_length + length_code\n",
        "    else:\n",
        "        full_encoded = encoded[:max_length - len(length_code)] + length_code\n",
        "\n",
        "    return int(full_encoded)\n"
      ]
    },
    {
      "cell_type": "markdown",
      "metadata": {
        "id": "yJW041qTtkJo"
      },
      "source": [
        "### Створення дерева"
      ]
    },
    {
      "cell_type": "code",
      "execution_count": 18,
      "metadata": {
        "id": "BLhvkzjtDDs4"
      },
      "outputs": [],
      "source": [
        "max_name_len = 15"
      ]
    },
    {
      "cell_type": "code",
      "execution_count": 19,
      "metadata": {
        "id": "u4Ie5TKh-j-m"
      },
      "outputs": [],
      "source": [
        "ukrainian_names = [\n",
        "    \"Мельник\", \"Шевченко\", \"Бойко\", \"Коваленко\", \"Бондаренко\", \"Ткаченко\", \"Ковальчук\",\n",
        "    \"Кравченко\", \"Олійник\", \"Ігнатьєв\", \"Шевчук\", \"Поліщук\", \"Лисенко\", \"Ткачук\", \"Коваль\", \"Савченко\",\n",
        "    \"Марченко\", \"Литвиненко\", \"Гончаренко\", \"Андрієнко\", \"Петренко\"\n",
        "]"
      ]
    },
    {
      "cell_type": "code",
      "execution_count": 22,
      "metadata": {
        "colab": {
          "base_uri": "https://localhost:8080/"
        },
        "id": "yCVY-dvdy8ij",
        "outputId": "7aec91ce-cc80-429a-b78d-26cbef939238"
      },
      "outputs": [
        {
          "name": "stdout",
          "output_type": "stream",
          "text": [
            "|- ['Кравченко']\n",
            "   |- ['Гончаренко', 'Мельник']\n",
            "   |  |- ['Андрієнко', 'Бондаренко', 'Бойко']\n",
            "   |  |- ['Гончаренко', 'Ігнатьєв', 'Марченко']\n",
            "   |  |- ['Мельник', 'Литвиненко', 'Лисенко']\n",
            "   |- ['Ковальчук', 'Олійник', 'Ткаченко']\n",
            "      |- ['Кравченко', 'Коваленко', 'Коваль']\n",
            "      |- ['Ковальчук', 'Петренко']\n",
            "      |- ['Олійник', 'Поліщук', 'Савченко']\n",
            "      |- ['Ткаченко', 'Ткачук', 'Шевченко', 'Шевчук']\n"
          ]
        }
      ],
      "source": [
        "bplustree = BPlusTree(4)\n",
        "for name in ukrainian_names:\n",
        "  bplustree[get_name_hash(name)] = name\n",
        "bplustree.show()"
      ]
    },
    {
      "cell_type": "code",
      "execution_count": null,
      "metadata": {
        "colab": {
          "base_uri": "https://localhost:8080/",
          "height": 35
        },
        "id": "LUGbxKcCjKXf",
        "outputId": "474f6043-e74c-4259-89b3-fd4398441732"
      },
      "outputs": [
        {
          "data": {
            "application/vnd.google.colaboratory.intrinsic+json": {
              "type": "string"
            },
            "text/plain": [
              "'Гончаренко'"
            ]
          },
          "execution_count": 23,
          "metadata": {},
          "output_type": "execute_result"
        }
      ],
      "source": [
        "bplustree.query(get_name_hash(\"Гончаренко\"))"
      ]
    },
    {
      "cell_type": "code",
      "execution_count": 24,
      "metadata": {
        "colab": {
          "base_uri": "https://localhost:8080/"
        },
        "id": "P_2ZAg_7bswP",
        "outputId": "0e6b34c0-3af1-4e29-90c7-96a0c0f9674f"
      },
      "outputs": [
        {
          "data": {
            "text/plain": [
              "['Андрієнко', 'Бондаренко', 'Бойко']"
            ]
          },
          "execution_count": 24,
          "metadata": {},
          "output_type": "execute_result"
        }
      ],
      "source": [
        "bplustree.query_less_than(get_name_hash(\"Гончаренко\"))"
      ]
    },
    {
      "cell_type": "code",
      "execution_count": 25,
      "metadata": {
        "colab": {
          "base_uri": "https://localhost:8080/"
        },
        "id": "YqFeBQy8CcZd",
        "outputId": "97aca73b-44dc-43d2-ebf7-633b72e5a0e7"
      },
      "outputs": [
        {
          "data": {
            "text/plain": [
              "['Марченко',\n",
              " 'Мельник',\n",
              " 'Литвиненко',\n",
              " 'Лисенко',\n",
              " 'Кравченко',\n",
              " 'Коваленко',\n",
              " 'Коваль',\n",
              " 'Ковальчук',\n",
              " 'Петренко',\n",
              " 'Олійник',\n",
              " 'Поліщук',\n",
              " 'Савченко',\n",
              " 'Ткаченко',\n",
              " 'Ткачук',\n",
              " 'Шевченко',\n",
              " 'Шевчук']"
            ]
          },
          "execution_count": 25,
          "metadata": {},
          "output_type": "execute_result"
        }
      ],
      "source": [
        "bplustree.query_more_than(get_name_hash(\"Ігнатьєв\"))"
      ]
    },
    {
      "cell_type": "code",
      "execution_count": 26,
      "metadata": {
        "colab": {
          "base_uri": "https://localhost:8080/"
        },
        "id": "74T8E4Dxeqqh",
        "outputId": "1377f9ed-3478-40f1-b372-9a10b68f2b84"
      },
      "outputs": [
        {
          "data": {
            "text/plain": [
              "[]"
            ]
          },
          "execution_count": 26,
          "metadata": {},
          "output_type": "execute_result"
        }
      ],
      "source": [
        "bplustree.query_more_than(get_name_hash(\"яяяя\"))"
      ]
    },
    {
      "cell_type": "code",
      "execution_count": 27,
      "metadata": {
        "colab": {
          "base_uri": "https://localhost:8080/"
        },
        "id": "juCT48n1fDPX",
        "outputId": "bafe41a1-b3db-415b-9795-e33971e51ca7"
      },
      "outputs": [
        {
          "data": {
            "text/plain": [
              "['Андрієнко',\n",
              " 'Бондаренко',\n",
              " 'Бойко',\n",
              " 'Гончаренко',\n",
              " 'Ігнатьєв',\n",
              " 'Марченко',\n",
              " 'Мельник',\n",
              " 'Литвиненко',\n",
              " 'Лисенко',\n",
              " 'Кравченко',\n",
              " 'Коваленко',\n",
              " 'Коваль',\n",
              " 'Ковальчук',\n",
              " 'Петренко',\n",
              " 'Олійник',\n",
              " 'Поліщук',\n",
              " 'Савченко',\n",
              " 'Ткаченко',\n",
              " 'Ткачук',\n",
              " 'Шевченко',\n",
              " 'Шевчук']"
            ]
          },
          "execution_count": 27,
          "metadata": {},
          "output_type": "execute_result"
        }
      ],
      "source": [
        "bplustree.query_less_than(get_name_hash(\"яяяя\"))"
      ]
    },
    {
      "cell_type": "markdown",
      "metadata": {},
      "source": []
    },
    {
      "cell_type": "code",
      "execution_count": 28,
      "metadata": {
        "colab": {
          "base_uri": "https://localhost:8080/"
        },
        "id": "BtFn58aHuFn4",
        "outputId": "343a80d3-1991-41d3-a5ce-b4dea0d476ec"
      },
      "outputs": [
        {
          "name": "stdout",
          "output_type": "stream",
          "text": [
            "|- ['Кравченко']\n",
            "   |- ['Гончаренко', 'Мельник']\n",
            "   |  |- ['Андрієнко', 'Бондаренко']\n",
            "   |  |- ['Гончаренко', 'Ігнатьєв', 'Марченко']\n",
            "   |  |- ['Мельник', 'Литвиненко', 'Лисенко']\n",
            "   |- ['Ковальчук', 'Олійник', 'Ткаченко']\n",
            "      |- ['Кравченко', 'Коваленко', 'Коваль']\n",
            "      |- ['Ковальчук', 'Петренко']\n",
            "      |- ['Олійник', 'Поліщук', 'Савченко']\n",
            "      |- ['Ткаченко', 'Ткачук', 'Шевченко', 'Шевчук']\n"
          ]
        }
      ],
      "source": [
        "bplustree.delete(get_name_hash(\"Бойко\"))\n",
        "bplustree.show()"
      ]
    },
    {
      "cell_type": "code",
      "execution_count": null,
      "metadata": {
        "id": "yJtyYjyW1-7Q"
      },
      "outputs": [],
      "source": []
    }
  ],
  "metadata": {
    "colab": {
      "provenance": []
    },
    "kernelspec": {
      "display_name": "Python 3",
      "name": "python3"
    },
    "language_info": {
      "name": "python"
    }
  },
  "nbformat": 4,
  "nbformat_minor": 0
}
